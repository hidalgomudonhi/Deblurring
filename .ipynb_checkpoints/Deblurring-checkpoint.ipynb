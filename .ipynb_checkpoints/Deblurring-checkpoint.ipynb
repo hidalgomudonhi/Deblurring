{
 "cells": [
  {
   "cell_type": "code",
   "execution_count": 2,
   "id": "60531bdf",
   "metadata": {},
   "outputs": [],
   "source": [
    "import numpy as np\n",
    "import matplotlib.pyplot as plt"
   ]
  },
  {
   "cell_type": "code",
   "execution_count": 8,
   "id": "4584f6b2",
   "metadata": {},
   "outputs": [
    {
     "ename": "IndentationError",
     "evalue": "unexpected indent (1159592664.py, line 12)",
     "output_type": "error",
     "traceback": [
      "\u001b[1;36m  Cell \u001b[1;32mIn[8], line 12\u001b[1;36m\u001b[0m\n\u001b[1;33m    for i in range(len(v)):\u001b[0m\n\u001b[1;37m    ^\u001b[0m\n\u001b[1;31mIndentationError\u001b[0m\u001b[1;31m:\u001b[0m unexpected indent\n"
     ]
    }
   ],
   "source": [
    "# develop a global transfare matrix\n",
    "def f(x,y):\n",
    "        difference = x-y\n",
    "        square = difference**2\n",
    "        negate = -square\n",
    "        return  0.1*np.exp(negate/2)\n",
    "def matrix():\n",
    "        v = np.linspace(-15,15,50)\n",
    "        w = np.linspace(-15,15,30)\n",
    "\n",
    "        matrix=np.ones((len(v),len(w)))\n",
    "        for i in range(len(v)):\n",
    "            for j in range(len(w)): \n",
    "                    matrix[i][j]=f(w[j],v[i])\n",
    "        return matrix"
   ]
  },
  {
   "cell_type": "code",
   "execution_count": 7,
   "id": "552a631a",
   "metadata": {},
   "outputs": [
    {
     "ename": "TypeError",
     "evalue": "object of type 'function' has no len()",
     "output_type": "error",
     "traceback": [
      "\u001b[1;31m---------------------------------------------------------------------------\u001b[0m",
      "\u001b[1;31mTypeError\u001b[0m                                 Traceback (most recent call last)",
      "Cell \u001b[1;32mIn[7], line 3\u001b[0m\n\u001b[0;32m      1\u001b[0m \u001b[38;5;66;03m#find the constant of normalizing matrix (Pij/Pj)\u001b[39;00m\n\u001b[0;32m      2\u001b[0m W\u001b[38;5;241m=\u001b[39m\u001b[38;5;241m2\u001b[39m\n\u001b[1;32m----> 3\u001b[0m P\u001b[38;5;241m=\u001b[39mnp\u001b[38;5;241m.\u001b[39mmatmul([W]\u001b[38;5;241m*\u001b[39m\u001b[38;5;28;43mlen\u001b[39;49m\u001b[43m(\u001b[49m\u001b[43mmatrix\u001b[49m\u001b[43m)\u001b[49m,matrix)\n\u001b[0;32m      4\u001b[0m con\u001b[38;5;241m=\u001b[39mnp\u001b[38;5;241m.\u001b[39mdivide(W\u001b[38;5;241m*\u001b[39mmatrix,P)\n",
      "\u001b[1;31mTypeError\u001b[0m: object of type 'function' has no len()"
     ]
    }
   ],
   "source": [
    "#find the constant of normalizing matrix (Pij/Pj)\n",
    "W=2\n",
    "P=np.matmul([W]*len(matrix()),matrix)\n",
    "con=np.divide(W*matrix,P)"
   ]
  },
  {
   "cell_type": "code",
   "execution_count": null,
   "id": "4039abcc",
   "metadata": {},
   "outputs": [],
   "source": [
    "# Find the measured results (fj)   \n",
    "x=np.linspace(0,50,30)#defining the x-axis\n",
    "x1=np.linspace(0,50,50)\n",
    "def find_fj():\n",
    "    def f(x):\n",
    "        if (x>10 and x<30):\n",
    "            return 5\n",
    "        else:\n",
    "            return 0\n",
    "    y = np.zeros(30)\n",
    "    for i in range(30):\n",
    "            y[i]=(f(x[i]))\n",
    "\n",
    "\n",
    "    f=np.matmul(matrix1,y)\n",
    "    return f\n"
   ]
  },
  {
   "cell_type": "code",
   "execution_count": null,
   "id": "5671469d",
   "metadata": {},
   "outputs": [],
   "source": [
    "def f(x):\n",
    "    if (x>10 and x<30):\n",
    "        return 5\n",
    "    else:\n",
    "        return 0\n",
    "y = np.zeros(len(x))\n",
    "for i in range(len(x)):\n",
    "        y[i]=(f(x[i]))\n",
    "original=y\n"
   ]
  },
  {
   "cell_type": "code",
   "execution_count": null,
   "id": "44a8787c",
   "metadata": {},
   "outputs": [],
   "source": [
    "#Find working fj:\n",
    "def working_fj(transfareMatrix,result):\n",
    "    return np.matmul(transfareMatrix,result)\n",
    "\n",
    "result=np.ones(len(matrix1[1]))\n",
    "fnj=working_fj(matrix1,result)"
   ]
  },
  {
   "cell_type": "code",
   "execution_count": null,
   "id": "0b6aa0a5",
   "metadata": {},
   "outputs": [],
   "source": [
    "def Recover(actual,measured,varying,k):\n",
    "    var = np.divide(measured,varying)\n",
    "    prem_res = np.matmul(var,k)\n",
    "    final_result= prem_res*actual\n",
    "    return final_result\n"
   ]
  },
  {
   "cell_type": "code",
   "execution_count": null,
   "id": "9267a72e",
   "metadata": {},
   "outputs": [],
   "source": [
    "rec =Recover(result,measured_results,fnj,con)\n",
    "n=0\n",
    "while (n<3000):\n",
    "    fnj=working_fj(matrix1,rec)\n",
    "    rec=Recover(rec,measured_results,fnj,con)\n",
    "    n+=1"
   ]
  },
  {
   "cell_type": "code",
   "execution_count": null,
   "id": "0d4dd43e",
   "metadata": {},
   "outputs": [],
   "source": [
    "\n",
    "    plt.plot(x1,measured_results,\"blue\",label=\"measured\")\n",
    "    plt.plot(x,original,\"red\",label=\"original\")\n",
    "    plt.plot(x,rec,\"green\",label=\"recovered\")\n",
    "    plt.title(\"Visualization\")\n",
    "    \n",
    "    plt.ylim(min(original),max(original)+1)\n",
    "    plt.xlim(min(x),max(x))\n",
    "    plt.legend()\n",
    "    plt.show()"
   ]
  }
 ],
 "metadata": {
  "kernelspec": {
   "display_name": "Python 3 (ipykernel)",
   "language": "python",
   "name": "python3"
  },
  "language_info": {
   "codemirror_mode": {
    "name": "ipython",
    "version": 3
   },
   "file_extension": ".py",
   "mimetype": "text/x-python",
   "name": "python",
   "nbconvert_exporter": "python",
   "pygments_lexer": "ipython3",
   "version": "3.10.9"
  }
 },
 "nbformat": 4,
 "nbformat_minor": 5
}
