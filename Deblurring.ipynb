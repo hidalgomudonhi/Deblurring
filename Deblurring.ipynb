{
 "cells": [
  {
   "cell_type": "code",
   "execution_count": 108,
   "id": "60531bdf",
   "metadata": {},
   "outputs": [],
   "source": [
    "import numpy as np\n",
    "import matplotlib.pyplot as plt"
   ]
  },
  {
   "cell_type": "code",
   "execution_count": 109,
   "id": "4584f6b2",
   "metadata": {},
   "outputs": [],
   "source": [
    "# develop a global transfare matrix\n",
    "def f(x,y):\n",
    "        difference = x-y\n",
    "        square = difference**2\n",
    "        negate = -square\n",
    "        return  0.1*np.exp(negate/2)\n",
    "def matrix():\n",
    "        v = np.linspace(-15,15,50)\n",
    "        w = np.linspace(-15,15,30)\n",
    "\n",
    "        matrix=np.ones((len(v),len(w)))\n",
    "        for i in range(len(v)):\n",
    "            for j in range(len(w)): \n",
    "                    matrix[i][j]=f(w[j],v[i])\n",
    "        return matrix"
   ]
  },
  {
   "cell_type": "code",
   "execution_count": 110,
   "id": "552a631a",
   "metadata": {},
   "outputs": [],
   "source": [
    "#find the constant of normalizing matrix (Pij/Pj)\n",
    "W=2\n",
    "P=np.matmul([W]*len(matrix1),matrix1)\n",
    "con=np.divide(W*matrix1,P)"
   ]
  },
  {
   "cell_type": "code",
   "execution_count": 111,
   "id": "4039abcc",
   "metadata": {},
   "outputs": [],
   "source": [
    "# Find the measured results (fj)   \n",
    "x=np.linspace(0,50,30)#defining the x-axis\n",
    "x1=np.linspace(0,50,50)\n",
    "def find_fj():\n",
    "    def f(x):\n",
    "        if (x>10 and x<30):\n",
    "            return 5\n",
    "        else:\n",
    "            return 0\n",
    "    y = np.zeros(30)\n",
    "    for i in range(30):\n",
    "            y[i]=(f(x[i]))\n",
    "\n",
    "\n",
    "    f=np.matmul(matrix1,y)\n",
    "    return f\n"
   ]
  },
  {
   "cell_type": "code",
   "execution_count": 112,
   "id": "5671469d",
   "metadata": {},
   "outputs": [],
   "source": [
    "def f(x):\n",
    "    if (x>10 and x<30):\n",
    "        return 5\n",
    "    else:\n",
    "        return 0\n",
    "y = np.zeros(len(x))\n",
    "for i in range(len(x)):\n",
    "        y[i]=(f(x[i]))\n",
    "original=y\n"
   ]
  },
  {
   "cell_type": "code",
   "execution_count": 113,
   "id": "44a8787c",
   "metadata": {},
   "outputs": [],
   "source": [
    "#Find working fj:\n",
    "def working_fj(transfareMatrix,result):\n",
    "    return np.matmul(transfareMatrix,result)\n",
    "\n",
    "result=np.ones(len(matrix1[1]))\n",
    "fnj=working_fj(matrix1,result)"
   ]
  },
  {
   "cell_type": "code",
   "execution_count": 114,
   "id": "0b6aa0a5",
   "metadata": {},
   "outputs": [],
   "source": [
    "def Recover(actual,measured,varying,k):\n",
    "    var = np.divide(measured,varying)\n",
    "    prem_res = np.matmul(var,k)\n",
    "    final_result= prem_res*actual\n",
    "    return final_result\n"
   ]
  },
  {
   "cell_type": "code",
   "execution_count": 119,
   "id": "9267a72e",
   "metadata": {},
   "outputs": [],
   "source": [
    "rec =Recover(result,measured_results,fnj,con)\n",
    "n=0\n",
    "while (n<3000):\n",
    "    fnj=working_fj(matrix1,rec)\n",
    "    rec=Recover(rec,measured_results,fnj,con)\n",
    "    n+=1"
   ]
  },
  {
   "cell_type": "code",
   "execution_count": 120,
   "id": "0d4dd43e",
   "metadata": {},
   "outputs": [
    {
     "data": {
      "image/png": "[encoded data removed]",
      "text/plain": [
       "<Figure size 640x480 with 1 Axes>"
      ]
     },
     "metadata": {},
     "output_type": "display_data"
    }
   ],
   "source": [
    "\n",
    "    plt.plot(x1,measured_results,\"blue\",label=\"measured\")\n",
    "    plt.plot(x,original,\"red\",label=\"original\")\n",
    "    plt.plot(x,rec,\"green\",label=\"recovered\")\n",
    "    plt.title(\"Visualization\")\n",
    "    \n",
    "    plt.ylim(min(original),max(original)+1)\n",
    "    plt.xlim(min(x),max(x))\n",
    "    plt.legend()\n",
    "    plt.show()\n",
    "    #this change is to test if my git is up and running"
   ]
  }
 ],
 "metadata": {
  "kernelspec": {
   "display_name": "Python 3 (ipykernel)",
   "language": "python",
   "name": "python3"
  },
  "language_info": {
   "codemirror_mode": {
    "name": "ipython",
    "version": 3
   },
   "file_extension": ".py",
   "mimetype": "text/x-python",
   "name": "python",
   "nbconvert_exporter": "python",
   "pygments_lexer": "ipython3",
   "version": "3.10.9"
  }
 },
 "nbformat": 4,
 "nbformat_minor": 5
}
