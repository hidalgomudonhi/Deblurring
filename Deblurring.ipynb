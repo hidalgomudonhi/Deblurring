{
 "cells": [
  {
   "cell_type": "code",
   "execution_count": 4,
   "id": "60531bdf",
   "metadata": {},
   "outputs": [],
   "source": [
    "import numpy as np\n",
    "import matplotlib.pyplot as plt"
   ]
  },
  {
   "cell_type": "code",
   "execution_count": 14,
   "id": "4584f6b2",
   "metadata": {},
   "outputs": [
    {
     "name": "stdout",
     "output_type": "stream",
     "text": [
      "here1\n",
      "[[1.00000000e-001 5.85624026e-002 1.17618475e-002 ... 3.92796771e-171\n",
      "  6.50439100e-184 3.69388307e-197]\n",
      " [8.29093862e-002 9.14715304e-002 3.46103477e-002 ... 8.69926004e-164\n",
      "  2.71384103e-176 2.90351628e-189]\n",
      " [4.72514129e-002 9.82110612e-002 7.00073729e-002 ... 1.32435409e-156\n",
      "  7.78340387e-169 1.56881881e-181]\n",
      " ...\n",
      " [1.56881881e-181 7.78340387e-169 1.32435409e-156 ... 7.00073729e-002\n",
      "  9.82110612e-002 4.72514129e-002]\n",
      " [2.90351628e-189 2.71384103e-176 8.69926004e-164 ... 3.46103477e-002\n",
      "  9.14715304e-002 8.29093862e-002]\n",
      " [3.69388307e-197 6.50439100e-184 3.92796771e-171 ... 1.17618475e-002\n",
      "  5.85624026e-002 1.00000000e-001]]\n"
     ]
    }
   ],
   "source": [
    "# develop a global transfare matrix\n",
    "\n",
    "def f(x,y):\n",
    "        difference = x-y\n",
    "        square = difference**2\n",
    "        negate = -square\n",
    "        return  0.1*np.exp(negate/2)\n",
    "print('here1')\n",
    "v = np.linspace(-15,15,50)\n",
    "w = np.linspace(-15,15,30)\n",
    "\n",
    "matrix=np.ones((len(v),len(w)))\n",
    "for i in range(len(v)):\n",
    "    for j in range(len(w)): \n",
    "            matrix[i][j]=f(w[j],v[i])\n",
    "print(matrix)"
   ]
  },
  {
   "cell_type": "code",
   "execution_count": 16,
   "id": "552a631a",
   "metadata": {},
   "outputs": [],
   "source": [
    "#find the constant of normalizing matrix (Pij/Pj)\n",
    "W=2\n",
    "matrix1=matrix\n",
    "P=np.matmul([W]*len(matrix1),matrix1)\n",
    "con=np.divide(W*matrix1,P)"
   ]
  },
  {
   "cell_type": "code",
   "execution_count": 17,
   "id": "4039abcc",
   "metadata": {},
   "outputs": [],
   "source": [
    "# Find the measured results (fj)   \n",
    "x=np.linspace(0,50,30)#defining the x-axis\n",
    "x1=np.linspace(0,50,50)\n",
    "def find_fj():\n",
    "    def f(x):\n",
    "        if (x>10 and x<30):\n",
    "            return 5\n",
    "        else:\n",
    "            return 0\n",
    "    y = np.zeros(30)\n",
    "    for i in range(30):\n",
    "            y[i]=(f(x[i]))\n",
    "\n",
    "\n",
    "    f=np.matmul(matrix1,y)\n",
    "    return f\n",
    "\n",
    "measured_results = find_fj()"
   ]
  },
  {
   "cell_type": "code",
   "execution_count": 18,
   "id": "5671469d",
   "metadata": {},
   "outputs": [],
   "source": [
    "def f(x):\n",
    "    if (x>10 and x<30):\n",
    "        return 5\n",
    "    else:\n",
    "        return 0\n",
    "y = np.zeros(len(x))\n",
    "for i in range(len(x)):\n",
    "        y[i]=(f(x[i]))\n",
    "original=y\n"
   ]
  },
  {
   "cell_type": "code",
   "execution_count": 19,
   "id": "44a8787c",
   "metadata": {},
   "outputs": [],
   "source": [
    "#Find working fj:\n",
    "def working_fj(transfareMatrix,result):\n",
    "    return np.matmul(transfareMatrix,result)\n",
    "\n",
    "result=np.ones(len(matrix1[1]))\n",
    "fnj=working_fj(matrix1,result)"
   ]
  },
  {
   "cell_type": "code",
   "execution_count": 20,
   "id": "0b6aa0a5",
   "metadata": {},
   "outputs": [],
   "source": [
    "def Recover(actual,measured,varying,k):\n",
    "    var = np.divide(measured,varying)\n",
    "    prem_res = np.matmul(var,k)\n",
    "    final_result= prem_res*actual\n",
    "    return final_result\n"
   ]
  },
  {
   "cell_type": "code",
   "execution_count": 21,
   "id": "9267a72e",
   "metadata": {},
   "outputs": [],
   "source": [
    "rec =Recover(result,measured_results,fnj,con)\n",
    "n=0\n",
    "while (n<3000):\n",
    "    fnj=working_fj(matrix1,rec)\n",
    "    rec=Recover(rec,measured_results,fnj,con)\n",
    "    n+=1"
   ]
  },
  {
   "cell_type": "code",
   "execution_count": 23,
   "id": "0d4dd43e",
   "metadata": {},
   "outputs": [
    {
     "data": {
      "image/png": "[encoded data removed]",
      "text/plain": [
       "<Figure size 640x480 with 1 Axes>"
      ]
     },
     "metadata": {},
     "output_type": "display_data"
    }
   ],
   "source": [
    "\n",
    "    plt.plot(x1,measured_results,\"blue\",label=\"measured\")\n",
    "    plt.plot(x,original,\"red\",label=\"original\")\n",
    "    plt.plot(x,rec,\"green\",label=\"recovered\")\n",
    "    plt.title(\"Visualization\")\n",
    "    \n",
    "    plt.ylim(min(original),max(original)+1)\n",
    "    plt.xlim(min(x),max(x))\n",
    "    plt.legend()\n",
    "    plt.show()"
   ]
  }
 ],
 "metadata": {
  "kernelspec": {
   "display_name": "Python 3 (ipykernel)",
   "language": "python",
   "name": "python3"
  },
  "language_info": {
   "codemirror_mode": {
    "name": "ipython",
    "version": 3
   },
   "file_extension": ".py",
   "mimetype": "text/x-python",
   "name": "python",
   "nbconvert_exporter": "python",
   "pygments_lexer": "ipython3",
   "version": "3.10.9"
  }
 },
 "nbformat": 4,
 "nbformat_minor": 5
}
